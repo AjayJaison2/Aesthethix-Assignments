{
  "nbformat": 4,
  "nbformat_minor": 0,
  "metadata": {
    "colab": {
      "provenance": []
    },
    "kernelspec": {
      "name": "python3",
      "display_name": "Python 3"
    },
    "language_info": {
      "name": "python"
    }
  },
  "cells": [
    {
      "cell_type": "markdown",
      "source": [
        "greatest among three number"
      ],
      "metadata": {
        "id": "RCe3WVJpuBnO"
      }
    },
    {
      "cell_type": "code",
      "execution_count": 1,
      "metadata": {
        "colab": {
          "base_uri": "https://localhost:8080/"
        },
        "id": "p1UakAcWtaNP",
        "outputId": "2bb2e464-63db-4448-eb27-780765d56a9c"
      },
      "outputs": [
        {
          "output_type": "stream",
          "name": "stdout",
          "text": [
            "Enter a number: 6\n",
            "Enter a number: 8\n",
            "Enter a number: 9\n",
            "9\n"
          ]
        }
      ],
      "source": [
        "a=int(input(\"Enter a number: \"))\n",
        "b=int(input(\"Enter a number: \"))\n",
        "c=int(input(\"Enter a number: \"))\n",
        "if a>b>c:\n",
        "  print(a)\n",
        "elif b>a>c:\n",
        "  print(b)\n",
        "else:\n",
        "  print(c)\n",
        "\n"
      ]
    },
    {
      "cell_type": "markdown",
      "source": [],
      "metadata": {
        "id": "Q6HATve8uOFk"
      }
    },
    {
      "cell_type": "code",
      "source": [
        "a=str(input(\"Enter a two digit number: \"))\n",
        "if a[0]>a[1]:\n",
        "  print(a[0])\n",
        "else:\n",
        "  print(a[1])\n",
        ""
      ],
      "metadata": {
        "id": "LFWwCLHWuJCe"
      },
      "execution_count": null,
      "outputs": []
    },
    {
      "cell_type": "markdown",
      "source": [
        "amstrong number"
      ],
      "metadata": {
        "id": "TAxpRzkhuW7i"
      }
    },
    {
      "cell_type": "code",
      "source": [
        "number = int(input(\"Enter a number: \"))\n",
        "\n",
        "\n",
        "a = str(number)\n",
        "\n",
        "\n",
        "b = len(a)\n",
        "\n",
        "\n",
        "sum_of_digits = 0\n",
        "\n",
        "\n",
        "for digit in a:\n",
        "    digit_int = int(digit)\n",
        "    sum_of_digits += digit_int ** b\n",
        "\n",
        "if number == sum_of_digits:\n",
        "    print(number, \"is an Armstrong number.\")\n",
        "else:\n",
        "    print(number, \"is not an Armstrong number.\")"
      ],
      "metadata": {
        "id": "AGLlHAFSuROf"
      },
      "execution_count": null,
      "outputs": []
    },
    {
      "cell_type": "markdown",
      "source": [
        "sum of squares between two number"
      ],
      "metadata": {
        "id": "sqTcjOmUufM4"
      }
    },
    {
      "cell_type": "code",
      "source": [
        "def sum_of_squares(start, end):\n",
        "    total = 0\n",
        "    for num in range(start, end + 1):\n",
        "        total += num ** 2\n",
        "    return total\n",
        "start_num = int(input(\"Enter the start number: \"))\n",
        "end_num = int(input(\"Enter the end number:\"))\n",
        "result = sum_of_squares(start_num, end_num)\n",
        "print(f\"The sum of squares between {start_num} and {end_num} is: {result}\")"
      ],
      "metadata": {
        "id": "QGAtJKr6uawN"
      },
      "execution_count": null,
      "outputs": []
    },
    {
      "cell_type": "markdown",
      "source": [
        "fibonacci series"
      ],
      "metadata": {
        "id": "zn8CFVMoushW"
      }
    },
    {
      "cell_type": "code",
      "source": [
        "def generate_fibonacci_series(n):\n",
        "    fibonacci_series = []\n",
        "    a, b = 0, 1\n",
        "\n",
        "    for _ in range(n):\n",
        "        fibonacci_series.append(a)\n",
        "        a, b = b, a + b\n",
        "\n",
        "    return fibonacci_series\n",
        "\n",
        "n = int(input(\"Enter the number of terms for the Fibonacci series: \"))\n",
        "\n",
        "if n <= 0:\n",
        "    print(\"Please enter a positive integer.\")\n",
        "else:\n",
        "    result = generate_fibonacci_series(n)\n",
        "    print(\"Fibonacci series:\")\n",
        "    print(result)"
      ],
      "metadata": {
        "id": "iD0hSVouun41"
      },
      "execution_count": null,
      "outputs": []
    },
    {
      "cell_type": "markdown",
      "source": [
        "swaping of two numbers"
      ],
      "metadata": {
        "id": "gaRZYMnUu4Zq"
      }
    },
    {
      "cell_type": "code",
      "source": [
        "num1=int(input(\"ENTER 1ST NUMBER\"))\n",
        "num2=int(input(\"ENTER 2ND NUMBER\"))\n",
        "c=num1\n",
        "num1=num2\n",
        "num2=c\n",
        "print(num1)\n",
        "print(num2)"
      ],
      "metadata": {
        "id": "zep6nIkfu7Vr"
      },
      "execution_count": null,
      "outputs": []
    },
    {
      "cell_type": "markdown",
      "source": [
        "reverse a number"
      ],
      "metadata": {
        "id": "nHAbDiS2vCIk"
      }
    },
    {
      "cell_type": "code",
      "source": [
        "def reverse_number(number):\n",
        "    reversed_number = 0\n",
        "    while number > 0:\n",
        "\n",
        "        last_digit = number % 10\n",
        "\n",
        "        reversed_number = reversed_number * 10 + last_digit\n",
        "\n",
        "        number = number // 10\n",
        "    return reversed_number\n",
        "\n",
        "\n",
        "number = int(input(\"Enter a number: \"))\n",
        "\n",
        "\n",
        "reversed = reverse_number(number)\n",
        "\n",
        "\n",
        "print(\"Reversed number:\", reversed)"
      ],
      "metadata": {
        "colab": {
          "base_uri": "https://localhost:8080/"
        },
        "id": "pEAQy_GSvFBT",
        "outputId": "7a89f432-7cad-4ccc-dc3e-08b2700822fe"
      },
      "execution_count": 2,
      "outputs": [
        {
          "output_type": "stream",
          "name": "stdout",
          "text": [
            "Enter a number: 45\n",
            "Reversed number: 54\n"
          ]
        }
      ]
    }
  ]
}